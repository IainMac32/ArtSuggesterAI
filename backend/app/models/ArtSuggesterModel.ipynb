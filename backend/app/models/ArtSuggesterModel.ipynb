{
 "cells": [
  {
   "cell_type": "markdown",
   "metadata": {
    "colab_type": "text",
    "id": "view-in-github"
   },
   "source": [
    "<a href=\"https://colab.research.google.com/github/IainMac32/ArtSuggesterAI/blob/main/ArtSuggesterModel.ipynb\" target=\"_parent\"><img src=\"https://colab.research.google.com/assets/colab-badge.svg\" alt=\"Open In Colab\"/></a>"
   ]
  },
  {
   "cell_type": "markdown",
   "metadata": {
    "id": "Hf8L0AAtatDH"
   },
   "source": [
    "# Import Libraries\n"
   ]
  },
  {
   "cell_type": "code",
   "execution_count": null,
   "metadata": {
    "colab": {
     "base_uri": "https://localhost:8080/"
    },
    "id": "VGB5g75lbWTM",
    "outputId": "6ae1ac52-7c93-4958-8fb2-aab753e8908d"
   },
   "outputs": [
    {
     "name": "stdout",
     "output_type": "stream",
     "text": [
      "Mounted at /content/drive\n"
     ]
    }
   ],
   "source": [
    "import tensorflow as tf\n",
    "from tensorflow.keras.preprocessing.image import ImageDataGenerator\n",
    "from tensorflow.keras import layers, models\n",
    "\n",
    "\n",
    "from google.colab import drive\n",
    "drive.mount('/content/drive')\n",
    "import matplotlib.pyplot as plt\n",
    "\n",
    "\n",
    "import os\n",
    "import requests\n",
    "from PIL import Image\n",
    "from io import BytesIO\n",
    "\n",
    "from PIL import Image, ImageEnhance\n",
    "import random\n",
    "import numpy as np\n"
   ]
  },
  {
   "cell_type": "markdown",
   "metadata": {
    "id": "6CIoNENHanZX"
   },
   "source": [
    "# Load and Preprocess Images"
   ]
  },
  {
   "cell_type": "code",
   "execution_count": null,
   "metadata": {
    "collapsed": true,
    "id": "yrGloLt9bVuy"
   },
   "outputs": [],
   "source": [
    "\n",
    "image_folder = '/content/drive/My Drive/Colab Notebooks/MediumDataSet/'\n",
    "\n",
    "# angela / harrison\n",
    "categories = {'markers': 0, 'pencilcrayons': 1, 'paints': 2}\n",
    "data_list = []\n",
    "label_list = []\n",
    "\n",
    "# Function to apply data augmentation\n",
    "def augment_image(img):\n",
    "    # Random rotation\n",
    "    if random.random() > 0.5:\n",
    "        angle = random.randint(-30, 30)\n",
    "        img = img.rotate(angle)\n",
    "\n",
    "    # Random horizontal flip\n",
    "    if random.random() > 0.5:\n",
    "        img = img.transpose(Image.FLIP_LEFT_RIGHT)\n",
    "\n",
    "    # Random brightness adjustment\n",
    "    if random.random() > 0.5:\n",
    "        enhancer = ImageEnhance.Brightness(img)\n",
    "        img = enhancer.enhance(random.uniform(0.7, 1.3))\n",
    "\n",
    "    # Random contrast adjustment\n",
    "    if random.random() > 0.5:\n",
    "        enhancer = ImageEnhance.Contrast(img)\n",
    "        img = enhancer.enhance(random.uniform(0.8, 1.2))\n",
    "\n",
    "    # Random color adjustment\n",
    "    if random.random() > 0.5:\n",
    "        enhancer = ImageEnhance.Color(img)\n",
    "        img = enhancer.enhance(random.uniform(0.8, 1.2))\n",
    "\n",
    "    return img\n",
    "\n",
    "for category, label in categories.items():\n",
    "    category_path = os.path.join(image_folder, category)  # path to the medium type folder\n",
    "\n",
    "    for img_name in os.listdir(category_path):  # for each image in the medium type folder\n",
    "        img_path = os.path.join(category_path, img_name)  # construct the path to the image\n",
    "\n",
    "        try:\n",
    "            # Open and preprocess the original image\n",
    "            img = Image.open(img_path).convert('RGB')\n",
    "            img = img.resize((128, 128))\n",
    "\n",
    "            # Add original image to list\n",
    "            img_array = np.array(img) / 255.0  # convert to NumPy and normalize\n",
    "            data_list.append(img_array)\n",
    "            label_list.append(label)\n",
    "\n",
    "            # Apply data augmentation and add augmented image to list\n",
    "            augmented_img = augment_image(img)\n",
    "            augmented_img_array = np.array(augmented_img) / 255.0\n",
    "            data_list.append(augmented_img_array)\n",
    "            label_list.append(label)\n",
    "\n",
    "            #augment again?\n",
    "            augmented_img = augment_image(img)\n",
    "            augmented_img_array = np.array(augmented_img) / 255.0\n",
    "            data_list.append(augmented_img_array)\n",
    "            label_list.append(label)\n",
    "\n",
    "\n",
    "        except Exception as e:\n",
    "            print(f\"Error loading {img_name}: {e}\")\n",
    "\n",
    "# Convert lists of images/labels to NumPy arrays\n",
    "data_np = np.array(data_list)\n",
    "label_np = np.array(label_list)\n",
    "\n",
    "# Shuffle both arrays with the same permutation\n",
    "idx_permutation = np.random.permutation(len(data_np))\n",
    "data_np = data_np[idx_permutation]\n",
    "label_np = label_np[idx_permutation]\n",
    "\n",
    "# Split the data into training and testing sets\n",
    "split = len(data_np) // 10 * 9\n",
    "train_data_np = data_np[:split]\n",
    "train_label_np = label_np[:split]\n",
    "test_data_np = data_np[split:]\n",
    "test_label_np = label_np[split:]\n"
   ]
  },
  {
   "cell_type": "markdown",
   "metadata": {
    "id": "g5oFUZ1YsTQo"
   },
   "source": [
    "# Define Model new"
   ]
  },
  {
   "cell_type": "code",
   "execution_count": null,
   "metadata": {
    "id": "ROBH00-WrVVA"
   },
   "outputs": [],
   "source": [
    "#new\n",
    "\n",
    "model = tf.keras.models.Sequential([\n",
    "    tf.keras.Input(shape=(128, 128, 3)),\n",
    "\n",
    "    # Block 1\n",
    "    tf.keras.layers.Conv2D(64, (3, 3), padding='same', activation='relu'),\n",
    "    tf.keras.layers.Conv2D(64, (3, 3), padding='same', activation='relu'),\n",
    "    tf.keras.layers.MaxPooling2D((2, 2), strides=2),\n",
    "\n",
    "    # Block 2\n",
    "    tf.keras.layers.Conv2D(128, (3, 3), padding='same', activation='relu'),\n",
    "    tf.keras.layers.Conv2D(128, (3, 3), padding='same', activation='relu'),\n",
    "    tf.keras.layers.MaxPooling2D((2, 2), strides=2),\n",
    "\n",
    "    # Block 3\n",
    "    tf.keras.layers.Conv2D(256, (3, 3), padding='same', activation='relu'),\n",
    "    tf.keras.layers.Conv2D(256, (3, 3), padding='same', activation='relu'),\n",
    "    tf.keras.layers.Conv2D(256, (3, 3), padding='same', activation='relu'),\n",
    "    tf.keras.layers.MaxPooling2D((2, 2), strides=2),\n",
    "\n",
    "    # Block 4\n",
    "    tf.keras.layers.Conv2D(512, (3, 3), padding='same', activation='relu'),\n",
    "    tf.keras.layers.Conv2D(512, (3, 3), padding='same', activation='relu'),\n",
    "    tf.keras.layers.Conv2D(512, (3, 3), padding='same', activation='relu'),\n",
    "    tf.keras.layers.MaxPooling2D((2, 2), strides=2),\n",
    "\n",
    "    # Block 5\n",
    "    tf.keras.layers.Conv2D(512, (3, 3), padding='same', activation='relu'),\n",
    "    tf.keras.layers.Conv2D(512, (3, 3), padding='same', activation='relu'),\n",
    "    tf.keras.layers.Conv2D(512, (3, 3), padding='same', activation='relu'),\n",
    "    tf.keras.layers.MaxPooling2D((2, 2), strides=2),\n",
    "\n",
    "    # Classifier block\n",
    "    tf.keras.layers.Flatten(),\n",
    "    tf.keras.layers.Dense(4096, activation='relu'),\n",
    "    tf.keras.layers.Dense(4096, activation='relu'),\n",
    "    tf.keras.layers.Dense(3, activation='softmax')  # Assuming 3 classes for the output\n",
    "])\n",
    "\n",
    "optimizer = tf.keras.optimizers.Adam(learning_rate=0.0001)\n",
    "loss_function = tf.keras.losses.SparseCategoricalCrossentropy(from_logits=False)\n",
    "\n",
    "model.compile(optimizer=optimizer, loss=loss_function, metrics=['accuracy'])\n"
   ]
  },
  {
   "cell_type": "code",
   "execution_count": null,
   "metadata": {
    "id": "NEfnz_KWrp_O"
   },
   "outputs": [],
   "source": [
    "#new\n",
    "\n",
    "model = tf.keras.models.Sequential([\n",
    "    tf.keras.Input(shape=(128, 128, 3)),  # Input layer\n",
    "\n",
    "    # Block 1: Convolution + MaxPooling\n",
    "    tf.keras.layers.Conv2D(32, (3, 3), activation='relu', padding='same'),  # 32 filters, 3x3 kernel\n",
    "    tf.keras.layers.MaxPooling2D(2, 2),  # MaxPooling with pool size 2x2\n",
    "\n",
    "    # Block 2: Convolution + MaxPooling\n",
    "    tf.keras.layers.Conv2D(64, (3, 3), activation='relu', padding='same'),  # 64 filters, 3x3 kernel\n",
    "    tf.keras.layers.MaxPooling2D(2, 2),  # MaxPooling with pool size 2x2\n",
    "\n",
    "    # Flatten the output from the convolutions\n",
    "    tf.keras.layers.Flatten(),\n",
    "\n",
    "    # Fully connected layer\n",
    "    tf.keras.layers.Dense(128, activation='relu'),  # 128 units\n",
    "\n",
    "    # Output layer with 3 categories (softmax for multi-class classification)\n",
    "    tf.keras.layers.Dense(3, activation='softmax')  # 3 units for 3 categories\n",
    "])"
   ]
  },
  {
   "cell_type": "code",
   "execution_count": null,
   "metadata": {
    "id": "paaCLCACxdSC"
   },
   "outputs": [],
   "source": [
    "model.load_weights('model_79_Acc.weights.h5')\n",
    "\n",
    "optimizer = tf.keras.optimizers.Adam(learning_rate=0.00001)\n",
    "\n",
    "loss_function = tf.keras.losses.SparseCategoricalCrossentropy(from_logits=False)\n",
    "\n",
    "model.compile(\n",
    "    optimizer=optimizer,\n",
    "    loss=loss_function,\n",
    "    metrics=['accuracy'],\n",
    ")"
   ]
  },
  {
   "cell_type": "markdown",
   "metadata": {
    "id": "bdkdKcVqasne"
   },
   "source": [
    "# Train the Model"
   ]
  },
  {
   "cell_type": "code",
   "execution_count": null,
   "metadata": {
    "colab": {
     "base_uri": "https://localhost:8080/"
    },
    "id": "Ylj9soTgbT1K",
    "outputId": "175d623b-aff1-46e2-9c07-fe8160c4f4ff"
   },
   "outputs": [
    {
     "name": "stdout",
     "output_type": "stream",
     "text": [
      "\u001b[1m262/262\u001b[0m \u001b[32m━━━━━━━━━━━━━━━━━━━━\u001b[0m\u001b[37m\u001b[0m \u001b[1m2s\u001b[0m 9ms/step - accuracy: 1.0000 - loss: 0.0064 - val_accuracy: 0.7639 - val_loss: 0.9961\n"
     ]
    },
    {
     "data": {
      "text/plain": [
       "<keras.src.callbacks.history.History at 0x7cba986a0f40>"
      ]
     },
     "execution_count": 53,
     "metadata": {},
     "output_type": "execute_result"
    }
   ],
   "source": [
    "checkpoint_path = \"model_checkpoint.weights.h5\"  # Specify your checkpoint file path\n",
    "model_checkpoint_callback = tf.keras.callbacks.ModelCheckpoint(\n",
    "    filepath=checkpoint_path,         # Where to save the model\n",
    "    save_weights_only=True,           # Save only weights\n",
    "    monitor='val_accuracy',               # Metric to monitor\n",
    "    save_best_only=True,             # Save every checkpoint\n",
    "    mode='max',                       # Save the model with the minimum validation loss\n",
    "    save_freq='epoch'                 # Save the model every epoch\n",
    ")\n",
    "\n",
    "model.fit(\n",
    "    x=train_data_np,\n",
    "    y=train_label_np,\n",
    "    batch_size=8,\n",
    "    epochs=1,\n",
    "    validation_split=0.1,\n",
    "    shuffle=True,\n",
    "    validation_freq=1,\n",
    "    callbacks=[model_checkpoint_callback]\n",
    ")"
   ]
  },
  {
   "cell_type": "markdown",
   "metadata": {
    "id": "FtOtLJSHa37h"
   },
   "source": [
    "# Test and Save Model\n"
   ]
  },
  {
   "cell_type": "code",
   "execution_count": null,
   "metadata": {
    "colab": {
     "base_uri": "https://localhost:8080/"
    },
    "id": "bPjLwDp4apee",
    "outputId": "7af9bb71-81c1-4589-a418-e890de829704"
   },
   "outputs": [
    {
     "name": "stdout",
     "output_type": "stream",
     "text": [
      "\u001b[1m9/9\u001b[0m \u001b[32m━━━━━━━━━━━━━━━━━━━━\u001b[0m\u001b[37m\u001b[0m \u001b[1m0s\u001b[0m 7ms/step - accuracy: 0.8065 - loss: 0.9229\n"
     ]
    }
   ],
   "source": [
    "test_loss, test_accuracy = model.evaluate(test_data_np, test_label_np)"
   ]
  },
  {
   "cell_type": "code",
   "execution_count": null,
   "metadata": {
    "id": "XwZNTCJrRubL"
   },
   "outputs": [],
   "source": [
    "model.save('model_80_Acc.keras')\n",
    "\n"
   ]
  },
  {
   "cell_type": "code",
   "execution_count": null,
   "metadata": {
    "colab": {
     "base_uri": "https://localhost:8080/"
    },
    "id": "u4Puh9us3SqO",
    "outputId": "43c719e6-066d-45d5-b400-48e447aa636c"
   },
   "outputs": [
    {
     "name": "stderr",
     "output_type": "stream",
     "text": [
      "/usr/local/lib/python3.10/dist-packages/keras/src/saving/saving_lib.py:713: UserWarning: Skipping variable loading for optimizer 'rmsprop', because it has 10 variables whereas the saved optimizer has 18 variables. \n",
      "  saveable.load_own_variables(weights_store.get(inner_path))\n"
     ]
    }
   ],
   "source": [
    "model = tf.keras.models.load_model(\"model_80_Acc.keras\")"
   ]
  },
  {
   "cell_type": "code",
   "execution_count": null,
   "metadata": {
    "colab": {
     "base_uri": "https://localhost:8080/",
     "height": 581
    },
    "id": "kL_b8ZQN0cAX",
    "outputId": "fdf9a25e-7423-4e74-e421-231a5d8473a5"
   },
   "outputs": [
    {
     "name": "stdout",
     "output_type": "stream",
     "text": [
      "\u001b[1m9/9\u001b[0m \u001b[32m━━━━━━━━━━━━━━━━━━━━\u001b[0m\u001b[37m\u001b[0m \u001b[1m0s\u001b[0m 22ms/step\n"
     ]
    },
    {
     "data": {
      "image/png": "[encoded data removed]",
      "text/plain": [
       "<Figure size 800x600 with 2 Axes>"
      ]
     },
     "metadata": {},
     "output_type": "display_data"
    }
   ],
   "source": [
    "import numpy as np\n",
    "import matplotlib.pyplot as plt\n",
    "from sklearn.metrics import confusion_matrix\n",
    "import seaborn as sns\n",
    "\n",
    "# Assuming you already have your model trained on train_data_np and train_label_np\n",
    "\n",
    "# Make predictions on the test set\n",
    "y_pred = model.predict(test_data_np)  # Use test data for predictions\n",
    "y_pred_classes = np.argmax(y_pred, axis=1)  # Convert predictions to class labels (index of max probability)\n",
    "\n",
    "# Compute confusion matrix\n",
    "cm = confusion_matrix(test_label_np, y_pred_classes)\n",
    "\n",
    "# Plot confusion matrix\n",
    "plt.figure(figsize=(8, 6))\n",
    "sns.heatmap(cm, annot=True, fmt='d', cmap='Blues',\n",
    "            xticklabels=['Marker', 'Pencilcrayon', 'Paints'],\n",
    "            yticklabels=['Marker', 'Pencilcrayons', 'Paints'])\n",
    "plt.xlabel('Predicted')\n",
    "plt.ylabel('True')\n",
    "plt.title('Confusion Matrix')\n",
    "plt.show()\n"
   ]
  }
 ],
 "metadata": {
  "accelerator": "GPU",
  "colab": {
   "gpuType": "T4",
   "include_colab_link": true,
   "provenance": []
  },
  "kernelspec": {
   "display_name": "Python 3",
   "name": "python3"
  },
  "language_info": {
   "name": "python"
  }
 },
 "nbformat": 4,
 "nbformat_minor": 0
}
