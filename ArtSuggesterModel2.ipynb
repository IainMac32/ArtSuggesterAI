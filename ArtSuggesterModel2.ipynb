{
  "nbformat": 4,
  "nbformat_minor": 0,
  "metadata": {
    "colab": {
      "provenance": [],
      "include_colab_link": true
    },
    "kernelspec": {
      "name": "python3",
      "display_name": "Python 3"
    },
    "language_info": {
      "name": "python"
    }
  },
  "cells": [
    {
      "cell_type": "markdown",
      "metadata": {
        "id": "view-in-github",
        "colab_type": "text"
      },
      "source": [
        "<a href=\"https://colab.research.google.com/github/IainMac32/ArtSuggesterAI/blob/main/ArtSuggesterModel2.ipynb\" target=\"_parent\"><img src=\"https://colab.research.google.com/assets/colab-badge.svg\" alt=\"Open In Colab\"/></a>"
      ]
    },
    {
      "cell_type": "markdown",
      "source": [
        "Import Libraries\n"
      ],
      "metadata": {
        "id": "kqXIyHNAj5Wj"
      }
    },
    {
      "cell_type": "code",
      "execution_count": 1,
      "metadata": {
        "id": "kZAurrzRyets",
        "colab": {
          "base_uri": "https://localhost:8080/"
        },
        "outputId": "858deec6-a4c4-43bd-da30-306324607adc"
      },
      "outputs": [
        {
          "output_type": "stream",
          "name": "stdout",
          "text": [
            "Mounted at /content/drive\n"
          ]
        }
      ],
      "source": [
        "from google.colab import drive\n",
        "drive.mount('/content/drive')\n",
        "\n",
        "import os\n",
        "import requests\n",
        "from PIL import Image\n",
        "from io import BytesIO\n",
        "\n",
        "from PIL import Image, ImageEnhance\n",
        "import random\n",
        "import numpy as np\n",
        "\n",
        "from collections import Counter\n",
        "import numpy as np\n",
        "from scipy.spatial import cKDTree\n"
      ]
    },
    {
      "cell_type": "markdown",
      "source": [
        "Download Images to Google Drive (?)"
      ],
      "metadata": {
        "id": "Dm0Zz2hlj8ci"
      }
    },
    {
      "cell_type": "code",
      "source": [],
      "metadata": {
        "id": "mabA1tdhkFtJ"
      },
      "execution_count": null,
      "outputs": []
    },
    {
      "cell_type": "markdown",
      "source": [
        "Load and Preprocess Images\n"
      ],
      "metadata": {
        "id": "GSI3qQNhkUC1"
      }
    },
    {
      "cell_type": "code",
      "source": [
        "\n",
        "# dictionary of colour codes\n",
        "colour_codes = {\n",
        "    \"red_normal\": (255, 0, 0),\n",
        "    \"red_dark\": (139, 0, 0),\n",
        "    \"red_light\": (255, 102, 102),\n",
        "    \"green_normal\": (0, 128, 0),\n",
        "    \"green_dark\": (0, 100, 0),\n",
        "    \"green_light\": (144, 238, 144),\n",
        "    \"blue_normal\": (0, 0, 255),\n",
        "    \"blue_dark\": (0, 0, 139),\n",
        "    \"blue_light\": (173, 216, 230),\n",
        "    \"yellow_normal\": (255, 255, 0),\n",
        "    \"yellow_dark\": (204, 204, 0),\n",
        "    \"yellow_light\": (255, 255, 153),\n",
        "    \"orange_normal\": (255, 165, 0),\n",
        "    \"orange_dark\": (255, 140, 0),\n",
        "    \"orange_light\": (255, 200, 102),\n",
        "    \"purple_normal\": (128, 0, 128),\n",
        "    \"purple_dark\": (75, 0, 130),\n",
        "    \"purple_light\": (216, 191, 216),\n",
        "    \"pink_normal\": (255, 192, 203),\n",
        "    \"pink_dark\": (255, 105, 180),\n",
        "    \"pink_light\": (255, 182, 193),\n",
        "    \"brown_normal\": (165, 42, 42),\n",
        "    \"brown_dark\": (101, 67, 33),\n",
        "    \"brown_light\": (222, 184, 135),\n",
        "    \"gray_normal\": (128, 128, 128),\n",
        "    \"gray_dark\": (105, 105, 105),\n",
        "    \"gray_light\": (211, 211, 211),\n",
        "    \"cyan_normal\": (0, 255, 255),\n",
        "    \"cyan_dark\": (0, 139, 139),\n",
        "    \"cyan_light\": (224, 255, 255),\n",
        "    \"magenta_normal\": (255, 0, 255),\n",
        "    \"magenta_dark\": (139, 0, 139),\n",
        "    \"magenta_light\": (255, 153, 255),\n",
        "    \"lime_normal\": (0, 255, 0),\n",
        "    \"lime_dark\": (50, 205, 50),\n",
        "    \"lime_light\": (204, 255, 204),\n",
        "    \"teal_normal\": (0, 128, 128),\n",
        "    \"teal_dark\": (0, 102, 102),\n",
        "    \"teal_light\": (128, 191, 191),\n",
        "    \"navy_normal\": (0, 0, 128),\n",
        "    \"navy_dark\": (0, 0, 102),\n",
        "    \"navy_light\": (173, 216, 230)\n",
        "}\n",
        "\n",
        "colour_ids = {name: idx for idx, name in enumerate(colour_codes)}\n",
        "\n",
        "# Convert the colour_codes dict to a numpy array for faster computation\n",
        "colour_codes_array = np.array(list(colour_codes.values()))\n",
        "\n",
        "# Build a k-d tree for fast nearest neighbor search\n",
        "colour_tree = cKDTree(colour_codes_array)\n",
        "\n",
        "def rank_colours(img_array):\n",
        "    colour_counter = Counter()\n",
        "\n",
        "    # Reshape the image array for vectorized operations (128*128, 3)\n",
        "    img_array = img_array.reshape(-1, 3)\n",
        "\n",
        "    # Calculate the squared distance for each pixel to every color in the colour_codes\n",
        "    distances, indices = colour_tree.query(img_array)  # Query all pixels at once\n",
        "\n",
        "    # For each pixel, increment the count for the closest color\n",
        "    for idx in indices:\n",
        "        closest_colour = list(colour_codes.keys())[idx]\n",
        "        colour_counter[closest_colour] += 1\n",
        "\n",
        "    # Sort the colours by frequency (most common first)\n",
        "    ranked_colour_ids = [colour_ids[colour] for colour, _ in colour_counter.most_common()]\n",
        "\n",
        "    if len(ranked_colour_ids) < 5:\n",
        "        # If fewer than 5 colours, repeat the most common colours to fill up the list\n",
        "        ranked_colour_ids += [ranked_colour_ids[0]] * (5 - len(ranked_colour_ids))\n",
        "\n",
        "    return ranked_colour_ids[:5]\n"
      ],
      "metadata": {
        "id": "SQ3YG7qtDni9"
      },
      "execution_count": 64,
      "outputs": []
    },
    {
      "cell_type": "code",
      "source": [
        "# img_path is path to image (?)\n",
        "# medium is one hot encoded: [1,0,0] = paint, [0,1,0] = pencil crayon, [0,0,1] = marker\n",
        "# style is one hot encoded: [1,0,0,0,0] = abstract, [0,1,0,0,0] = realism, ...\n",
        "def format_img_list(img_path, medium, style):\n",
        "  try:\n",
        "    # open and preprocess the original image\n",
        "    img = Image.open(img_path).convert('RGB')\n",
        "    img = img.resize((128, 128))\n",
        "    img_array = np.array(img) # convert to NumPy and normalize\n",
        "\n",
        "    # Reshape the 3D array (128x128x3) into 2D array (128*128)x3\n",
        "    img_array = img_array.reshape(-1, 3)  # Flatten to (16384, 3)\n",
        "\n",
        "    # find 5 most prominent colours\n",
        "    colour_ranks = rank_colours(img_array)\n",
        "    top_colours = np.array(colour_ranks[:5]).flatten()\n",
        "\n",
        "    # format list of data\n",
        "    # [flattened image in pixels, medium, top colours, style]\n",
        "    img_flattened = img_array.flatten();\n",
        "    img_data = [img_array, medium, top_colours, style]\n",
        "    img_format = np.concatenate((img_flattened, medium, top_colours, style))\n",
        "\n",
        "    return img_format\n",
        "\n",
        "  except Exception as e:\n",
        "    print(f\"Error loading {img_name}: {e}\")"
      ],
      "metadata": {
        "id": "_XJd8ad6kWzr"
      },
      "execution_count": 65,
      "outputs": []
    },
    {
      "cell_type": "code",
      "source": [
        "image_folder = '/content/drive/My Drive/Colab Notebooks/SuggestionImages/'\n",
        "\n",
        "categories = {'markerart': 0, 'drawings': 1, 'paintings': 2}\n",
        "# abstract, art deco, expressionism, portrait, renaissance, romanticism, surrealist\n",
        "styles = {'abstract': 0, 'art_deco': 1, 'expressionism': 2, 'portrait': 3, 'renaissance': 4, 'romanticism': 5, 'surrealism': 6}\n",
        "data_list = []\n",
        "\n",
        "for category, label in categories.items():\n",
        "    category_path = os.path.join(image_folder, category)  # path to the medium type folder\n",
        "\n",
        "    for style_name in os.listdir(category_path):  # for each image in the medium type folder\n",
        "        style_path = os.path.join(category_path, style_name)  # construct the path to the image\n",
        "\n",
        "        for img_name in os.listdir(style_path):  # for each image in the medium type folder\n",
        "            img_path = os.path.join(style_path, img_name)  # construct the path to the image\n",
        "\n",
        "            try:\n",
        "                # medium encoding\n",
        "                medium = [1, 0, 0]\n",
        "                if category == 'drawings':\n",
        "                  medium = [0, 1, 0]\n",
        "                elif category == 'paintings':\n",
        "                  medium = [0, 0, 1]\n",
        "\n",
        "                # style encoding\n",
        "                style = [0] * len(styles)\n",
        "                style_index = styles.get(style_name, None)\n",
        "                if style_index is not None:\n",
        "                    style[style_index] = 1\n",
        "                else:\n",
        "                    print(f\"Unrecognized style '{style_name}' in path {style_path}\")\n",
        "                    continue\n",
        "\n",
        "                # format data\n",
        "                img_format = format_img_list(img_path, medium, style)\n",
        "                if img_format is not None:  # Only add valid processed data\n",
        "                  data_list.append(img_format)\n",
        "                  print(f\"Processed {img_name}\")\n",
        "\n",
        "\n",
        "            except Exception as e:\n",
        "                print(f\"In Error loading {img_name}: {e}\")\n",
        "\n",
        "# Convert lists to NumPy arrays\n",
        "data_np = np.array(data_list)\n"
      ],
      "metadata": {
        "id": "ktoCtpUakd9r",
        "colab": {
          "base_uri": "https://localhost:8080/",
          "height": 1000
        },
        "outputId": "bff65e98-33f4-43d1-f249-09f1394a44ef"
      },
      "execution_count": 66,
      "outputs": [
        {
          "output_type": "stream",
          "name": "stdout",
          "text": [
            "Processed rquiemcorpus2013jpgLargejpg.jpg\n",
            "Processed reaping1911jpgLargejpg.jpg\n",
            "Processed renewalsuprematistsquare1920jpgLargejpg.jpg\n",
            "Processed raices2016jpgLargejpg.jpg\n",
            "Processed redsgreens1969jpgLargejpg.jpg\n",
            "Processed romboc1960jpgLargejpg.jpg\n",
            "Processed rhythmsjpgLargejpg.jpg\n",
            "Processed reflectionofabsence1990jpgLargejpg.jpg\n",
            "Processed reticolofrangibile1970jpgLargejpg.jpg\n",
            "Processed saluttom1979jpgLargejpg.jpg\n",
            "Processed quartetojpgLargejpg.jpg\n",
            "Processed redyellowbluepaintingno11974jpgLargejpg.jpg\n",
            "Processed princepatutskyscommand1966jpgLargejpg.jpg\n",
            "Processed savethedate20161jpgLargejpg.jpg\n",
            "Processed prussianbluejpgLargejpg.jpg\n",
            "Processed praguemorningblissivjpgLargejpg.jpg\n",
            "Processed robainterior1972jpgLargejpg.jpg\n",
            "Processed saberdance1952jpgLargejpg.jpg\n",
            "Processed schwarzewelt2jpgLargejpg.jpg\n",
            "Processed ronco1967jpgLargejpg.jpg\n",
            "Processed prayer19131jpgLargejpg.jpg\n",
            "Processed sandbank2005jpgLargejpg.jpg\n",
            "Processed scatolaangoloverde1968jpgLargejpg.jpg\n",
            "Processed roadcross1958jpgLargejpg.jpg\n",
            "Processed sb22009jpgLargejpg.jpg\n",
            "Processed river1989jpgLargejpg.jpg\n",
            "Processed primalsuntwinlovejpgLargejpg.jpg\n",
            "Processed sakuhin1978jpgLargejpg.jpg\n",
            "Processed resistingmoment2019JPGLargeJPG.jpg\n",
            "Processed reticolonerodiversiblurossoversodestra1948jpgLargejpg.jpg\n",
            "Processed redwhiteandbrownjpgLargejpg.jpg\n",
            "Processed redspot1954jpgLargejpg.jpg\n",
            "Processed rollyourownzigzag1963jpgLargejpg.jpg\n",
            "Processed riderssong1989jpgLargejpg.jpg\n",
            "Processed redguitar1982jpgLargejpg.jpg\n",
            "Processed srieamaznican141968jpgLargejpg.jpg\n",
            "Processed seagarden1964jpgLargejpg.jpg\n",
            "Processed stilllife1949jpgLargejpg.jpg\n",
            "Processed signs1952jpgLargejpg.jpg\n",
            "Processed studyforportraitofapeasantjpgLargejpg.jpg\n",
            "Processed studyforthehallofmedicalsciencesmuralatthe1939worldsfairinnewyork1939jpgLargejpg.jpg\n",
            "Processed studyforstander1967jpgLargejpg.jpg\n",
            "Processed structure1970jpgLargejpg.jpg\n",
            "Processed serigrafia1975jpgLargejpg.jpg\n"
          ]
        },
        {
          "output_type": "error",
          "ename": "KeyboardInterrupt",
          "evalue": "",
          "traceback": [
            "\u001b[0;31m---------------------------------------------------------------------------\u001b[0m",
            "\u001b[0;31mKeyboardInterrupt\u001b[0m                         Traceback (most recent call last)",
            "\u001b[0;32m<ipython-input-66-0eb0a8e5925b>\u001b[0m in \u001b[0;36m<cell line: 8>\u001b[0;34m()\u001b[0m\n\u001b[1;32m     33\u001b[0m \u001b[0;34m\u001b[0m\u001b[0m\n\u001b[1;32m     34\u001b[0m                 \u001b[0;31m# format data\u001b[0m\u001b[0;34m\u001b[0m\u001b[0;34m\u001b[0m\u001b[0m\n\u001b[0;32m---> 35\u001b[0;31m                 \u001b[0mimg_format\u001b[0m \u001b[0;34m=\u001b[0m \u001b[0mformat_img_list\u001b[0m\u001b[0;34m(\u001b[0m\u001b[0mimg_path\u001b[0m\u001b[0;34m,\u001b[0m \u001b[0mmedium\u001b[0m\u001b[0;34m,\u001b[0m \u001b[0mstyle\u001b[0m\u001b[0;34m)\u001b[0m\u001b[0;34m\u001b[0m\u001b[0;34m\u001b[0m\u001b[0m\n\u001b[0m\u001b[1;32m     36\u001b[0m                 \u001b[0;32mif\u001b[0m \u001b[0mimg_format\u001b[0m \u001b[0;32mis\u001b[0m \u001b[0;32mnot\u001b[0m \u001b[0;32mNone\u001b[0m\u001b[0;34m:\u001b[0m  \u001b[0;31m# Only add valid processed data\u001b[0m\u001b[0;34m\u001b[0m\u001b[0;34m\u001b[0m\u001b[0m\n\u001b[1;32m     37\u001b[0m                   \u001b[0mdata_list\u001b[0m\u001b[0;34m.\u001b[0m\u001b[0mappend\u001b[0m\u001b[0;34m(\u001b[0m\u001b[0mimg_format\u001b[0m\u001b[0;34m)\u001b[0m\u001b[0;34m\u001b[0m\u001b[0;34m\u001b[0m\u001b[0m\n",
            "\u001b[0;32m<ipython-input-65-ca57e3e54e33>\u001b[0m in \u001b[0;36mformat_img_list\u001b[0;34m(img_path, medium, style)\u001b[0m\n\u001b[1;32m      5\u001b[0m   \u001b[0;32mtry\u001b[0m\u001b[0;34m:\u001b[0m\u001b[0;34m\u001b[0m\u001b[0;34m\u001b[0m\u001b[0m\n\u001b[1;32m      6\u001b[0m     \u001b[0;31m# open and preprocess the original image\u001b[0m\u001b[0;34m\u001b[0m\u001b[0;34m\u001b[0m\u001b[0m\n\u001b[0;32m----> 7\u001b[0;31m     \u001b[0mimg\u001b[0m \u001b[0;34m=\u001b[0m \u001b[0mImage\u001b[0m\u001b[0;34m.\u001b[0m\u001b[0mopen\u001b[0m\u001b[0;34m(\u001b[0m\u001b[0mimg_path\u001b[0m\u001b[0;34m)\u001b[0m\u001b[0;34m.\u001b[0m\u001b[0mconvert\u001b[0m\u001b[0;34m(\u001b[0m\u001b[0;34m'RGB'\u001b[0m\u001b[0;34m)\u001b[0m\u001b[0;34m\u001b[0m\u001b[0;34m\u001b[0m\u001b[0m\n\u001b[0m\u001b[1;32m      8\u001b[0m     \u001b[0mimg\u001b[0m \u001b[0;34m=\u001b[0m \u001b[0mimg\u001b[0m\u001b[0;34m.\u001b[0m\u001b[0mresize\u001b[0m\u001b[0;34m(\u001b[0m\u001b[0;34m(\u001b[0m\u001b[0;36m128\u001b[0m\u001b[0;34m,\u001b[0m \u001b[0;36m128\u001b[0m\u001b[0;34m)\u001b[0m\u001b[0;34m)\u001b[0m\u001b[0;34m\u001b[0m\u001b[0;34m\u001b[0m\u001b[0m\n\u001b[1;32m      9\u001b[0m     \u001b[0mimg_array\u001b[0m \u001b[0;34m=\u001b[0m \u001b[0mnp\u001b[0m\u001b[0;34m.\u001b[0m\u001b[0marray\u001b[0m\u001b[0;34m(\u001b[0m\u001b[0mimg\u001b[0m\u001b[0;34m)\u001b[0m \u001b[0;31m# convert to NumPy and normalize\u001b[0m\u001b[0;34m\u001b[0m\u001b[0;34m\u001b[0m\u001b[0m\n",
            "\u001b[0;32m/usr/local/lib/python3.10/dist-packages/PIL/Image.py\u001b[0m in \u001b[0;36mopen\u001b[0;34m(fp, mode, formats)\u001b[0m\n\u001b[1;32m   3464\u001b[0m     \u001b[0mfilename\u001b[0m\u001b[0;34m:\u001b[0m \u001b[0mstr\u001b[0m \u001b[0;34m|\u001b[0m \u001b[0mbytes\u001b[0m \u001b[0;34m=\u001b[0m \u001b[0;34m\"\"\u001b[0m\u001b[0;34m\u001b[0m\u001b[0;34m\u001b[0m\u001b[0m\n\u001b[1;32m   3465\u001b[0m     \u001b[0;32mif\u001b[0m \u001b[0mis_path\u001b[0m\u001b[0;34m(\u001b[0m\u001b[0mfp\u001b[0m\u001b[0;34m)\u001b[0m\u001b[0;34m:\u001b[0m\u001b[0;34m\u001b[0m\u001b[0;34m\u001b[0m\u001b[0m\n\u001b[0;32m-> 3466\u001b[0;31m         \u001b[0mfilename\u001b[0m \u001b[0;34m=\u001b[0m \u001b[0mos\u001b[0m\u001b[0;34m.\u001b[0m\u001b[0mpath\u001b[0m\u001b[0;34m.\u001b[0m\u001b[0mrealpath\u001b[0m\u001b[0;34m(\u001b[0m\u001b[0mos\u001b[0m\u001b[0;34m.\u001b[0m\u001b[0mfspath\u001b[0m\u001b[0;34m(\u001b[0m\u001b[0mfp\u001b[0m\u001b[0;34m)\u001b[0m\u001b[0;34m)\u001b[0m\u001b[0;34m\u001b[0m\u001b[0;34m\u001b[0m\u001b[0m\n\u001b[0m\u001b[1;32m   3467\u001b[0m \u001b[0;34m\u001b[0m\u001b[0m\n\u001b[1;32m   3468\u001b[0m     \u001b[0;32mif\u001b[0m \u001b[0mfilename\u001b[0m\u001b[0;34m:\u001b[0m\u001b[0;34m\u001b[0m\u001b[0;34m\u001b[0m\u001b[0m\n",
            "\u001b[0;32m/usr/lib/python3.10/posixpath.py\u001b[0m in \u001b[0;36mrealpath\u001b[0;34m(filename, strict)\u001b[0m\n\u001b[1;32m    394\u001b[0m symbolic links encountered in the path.\"\"\"\n\u001b[1;32m    395\u001b[0m     \u001b[0mfilename\u001b[0m \u001b[0;34m=\u001b[0m \u001b[0mos\u001b[0m\u001b[0;34m.\u001b[0m\u001b[0mfspath\u001b[0m\u001b[0;34m(\u001b[0m\u001b[0mfilename\u001b[0m\u001b[0;34m)\u001b[0m\u001b[0;34m\u001b[0m\u001b[0;34m\u001b[0m\u001b[0m\n\u001b[0;32m--> 396\u001b[0;31m     \u001b[0mpath\u001b[0m\u001b[0;34m,\u001b[0m \u001b[0mok\u001b[0m \u001b[0;34m=\u001b[0m \u001b[0m_joinrealpath\u001b[0m\u001b[0;34m(\u001b[0m\u001b[0mfilename\u001b[0m\u001b[0;34m[\u001b[0m\u001b[0;34m:\u001b[0m\u001b[0;36m0\u001b[0m\u001b[0;34m]\u001b[0m\u001b[0;34m,\u001b[0m \u001b[0mfilename\u001b[0m\u001b[0;34m,\u001b[0m \u001b[0mstrict\u001b[0m\u001b[0;34m,\u001b[0m \u001b[0;34m{\u001b[0m\u001b[0;34m}\u001b[0m\u001b[0;34m)\u001b[0m\u001b[0;34m\u001b[0m\u001b[0;34m\u001b[0m\u001b[0m\n\u001b[0m\u001b[1;32m    397\u001b[0m     \u001b[0;32mreturn\u001b[0m \u001b[0mabspath\u001b[0m\u001b[0;34m(\u001b[0m\u001b[0mpath\u001b[0m\u001b[0;34m)\u001b[0m\u001b[0;34m\u001b[0m\u001b[0;34m\u001b[0m\u001b[0m\n\u001b[1;32m    398\u001b[0m \u001b[0;34m\u001b[0m\u001b[0m\n",
            "\u001b[0;32m/usr/lib/python3.10/posixpath.py\u001b[0m in \u001b[0;36m_joinrealpath\u001b[0;34m(path, rest, strict, seen)\u001b[0m\n\u001b[1;32m    429\u001b[0m         \u001b[0mnewpath\u001b[0m \u001b[0;34m=\u001b[0m \u001b[0mjoin\u001b[0m\u001b[0;34m(\u001b[0m\u001b[0mpath\u001b[0m\u001b[0;34m,\u001b[0m \u001b[0mname\u001b[0m\u001b[0;34m)\u001b[0m\u001b[0;34m\u001b[0m\u001b[0;34m\u001b[0m\u001b[0m\n\u001b[1;32m    430\u001b[0m         \u001b[0;32mtry\u001b[0m\u001b[0;34m:\u001b[0m\u001b[0;34m\u001b[0m\u001b[0;34m\u001b[0m\u001b[0m\n\u001b[0;32m--> 431\u001b[0;31m             \u001b[0mst\u001b[0m \u001b[0;34m=\u001b[0m \u001b[0mos\u001b[0m\u001b[0;34m.\u001b[0m\u001b[0mlstat\u001b[0m\u001b[0;34m(\u001b[0m\u001b[0mnewpath\u001b[0m\u001b[0;34m)\u001b[0m\u001b[0;34m\u001b[0m\u001b[0;34m\u001b[0m\u001b[0m\n\u001b[0m\u001b[1;32m    432\u001b[0m         \u001b[0;32mexcept\u001b[0m \u001b[0mOSError\u001b[0m\u001b[0;34m:\u001b[0m\u001b[0;34m\u001b[0m\u001b[0;34m\u001b[0m\u001b[0m\n\u001b[1;32m    433\u001b[0m             \u001b[0;32mif\u001b[0m \u001b[0mstrict\u001b[0m\u001b[0;34m:\u001b[0m\u001b[0;34m\u001b[0m\u001b[0;34m\u001b[0m\u001b[0m\n",
            "\u001b[0;31mKeyboardInterrupt\u001b[0m: "
          ]
        }
      ]
    },
    {
      "cell_type": "code",
      "source": [
        "data_np = np.array(data_list)\n",
        "\n",
        "print(data_np[1][49152:])\n",
        "\n",
        "np.savetxt('data.txt', data_np, delimiter=',', fmt='%s')\n"
      ],
      "metadata": {
        "colab": {
          "base_uri": "https://localhost:8080/"
        },
        "id": "PQIbGKgMzPF3",
        "outputId": "8911dcc5-ea5f-4319-ffad-5032cf247682"
      },
      "execution_count": 82,
      "outputs": [
        {
          "output_type": "stream",
          "name": "stdout",
          "text": [
            "[ 0  0  1 26 23 24 25 22  1  0  0  0  0  0  0]\n"
          ]
        }
      ]
    },
    {
      "cell_type": "code",
      "source": [
        "# Reverse the colour_ids mapping\n",
        "reverse_colour_ids = {v: k for k, v in colour_ids.items()}\n",
        "\n",
        "# Example: if 23 is the most common colour\n",
        "colour_index = 24\n",
        "colour_name = reverse_colour_ids.get(colour_index)\n",
        "\n",
        "print(colour_name)\n"
      ],
      "metadata": {
        "colab": {
          "base_uri": "https://localhost:8080/"
        },
        "id": "7bMohQyq3P0K",
        "outputId": "e52b6813-c139-4197-e7be-b73ebe04e660"
      },
      "execution_count": 80,
      "outputs": [
        {
          "output_type": "stream",
          "name": "stdout",
          "text": [
            "gray_normal\n"
          ]
        }
      ]
    },
    {
      "cell_type": "code",
      "source": [
        "print(data_np)"
      ],
      "metadata": {
        "colab": {
          "base_uri": "https://localhost:8080/"
        },
        "id": "KR8_VYJ0HbMS",
        "outputId": "8351e7f5-46ae-4103-9425-0db38bea6ce1"
      },
      "execution_count": 81,
      "outputs": [
        {
          "output_type": "stream",
          "name": "stdout",
          "text": [
            "[[214   7   7 ...   0   0   0]\n",
            " [172 171 141 ...   0   0   0]\n",
            " [255 255 255 ...   0   0   0]\n",
            " ...\n",
            " [168 167 165 ...   0   0   0]\n",
            " [ 72 101 169 ...   0   0   0]\n",
            " [237 231 219 ...   0   0   0]]\n"
          ]
        }
      ]
    },
    {
      "cell_type": "markdown",
      "source": [
        "\n",
        "Define Model\n"
      ],
      "metadata": {
        "id": "6B3Wamwdkewl"
      }
    },
    {
      "cell_type": "code",
      "source": [],
      "metadata": {
        "id": "_AURaYNbkeEP"
      },
      "execution_count": null,
      "outputs": []
    },
    {
      "cell_type": "markdown",
      "source": [
        "Train Model"
      ],
      "metadata": {
        "id": "Ls5K1PzckqFR"
      }
    },
    {
      "cell_type": "code",
      "source": [],
      "metadata": {
        "id": "CLtbhAoOkr9L"
      },
      "execution_count": null,
      "outputs": []
    },
    {
      "cell_type": "markdown",
      "source": [
        "Test and Save Model"
      ],
      "metadata": {
        "id": "_KbNm25_ktrW"
      }
    },
    {
      "cell_type": "code",
      "source": [],
      "metadata": {
        "id": "52fRSe4rkvkS"
      },
      "execution_count": null,
      "outputs": []
    }
  ]
}